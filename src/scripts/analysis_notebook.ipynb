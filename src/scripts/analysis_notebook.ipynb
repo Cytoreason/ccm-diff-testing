{
  "cells": [
    {
      "cell_type": "code",
      "execution_count": null,
      "metadata": {},
      "outputs": [],
      "source": [
        "# GSE23597 Assay Data Analysis\n",
        "\n",
        "This notebook demonstrates the use of single group tests on filtered GSE23597 assay data.\n",
        "\n",
        "## Workflow:\n",
        "1. Load the assay data from parquet file\n",
        "2. Create a filtered version (random 10% samples and 10% features) \n",
        "3. Run correlation analysis between original and filtered data\n",
        "4. Rank features by discrepancy between datasets\n"
      ]
    },
    {
      "cell_type": "code",
      "execution_count": 1,
      "metadata": {},
      "outputs": [
        {
          "name": "stdout",
          "output_type": "stream",
          "text": [
            "Libraries imported successfully\n"
          ]
        }
      ],
      "source": [
        "import pandas as pd\n",
        "import numpy as np\n",
        "import os\n",
        "import sys\n",
        "from pathlib import Path\n",
        "\n",
        "# Add src directory to path to import our custom modules\n",
        "sys.path.append(str(Path.cwd() / 'src'))\n",
        "\n",
        "from diff_tests.single_group_tests import SingleGroupTests\n",
        "\n",
        "# Set random seed for reproducibility\n",
        "np.random.seed(42)\n",
        "\n",
        "print(\"Libraries imported successfully\")\n"
      ]
    },
    {
      "cell_type": "code",
      "execution_count": 9,
      "metadata": {},
      "outputs": [
        {
          "name": "stdout",
          "output_type": "stream",
          "text": [
            "Loading data from: /home/coder/ccm-diff-testing/data/GSE23597_download_from_crv:/GSE23597_NVFbx/GPL570/wf-07cebdd127/0/assay_data.parquet\n",
            "File exists: True\n",
            "Original long format shape: (4466664, 4)\n",
            "wide format shape: (113, 19764)\n",
            "Columns (first 10): ['1', '10', '100', '1000', '10000', '100009676', '10001', '10002', '10003', '10004']\n",
            "Index (first 10): ['GSM578713', 'GSM578714', 'GSM578715', 'GSM578716', 'GSM578717', 'GSM578718', 'GSM578719', 'GSM578720', 'GSM578721', 'GSM578722']\n",
            "\n",
            "First few rows and columns:\n",
            "feature_id         1        10       100      1000     10000\n",
            "sample_id                                                   \n",
            "GSM578713   4.990841  6.062380  6.884502  6.623899  5.936459\n",
            "GSM578714   5.098690  6.755269  6.528812  6.576757  5.718339\n",
            "GSM578715   5.208611  6.891815  6.835935  5.862957  4.968573\n",
            "GSM578716   5.086898  6.867630  7.351741  5.676505  5.116323\n",
            "GSM578717   4.889409  7.896095  6.472963  5.768915  4.990210\n"
          ]
        }
      ],
      "source": [
        "# Load the GSE23597 assay data\n",
        "data_path = Path(\"/home/coder/ccm-diff-testing/data/GSE23597_download_from_crv:/GSE23597_NVFbx/GPL570/wf-07cebdd127/0/assay_data.parquet\")\n",
        "\n",
        "print(f\"Loading data from: {data_path}\")\n",
        "print(f\"File exists: {data_path.exists()}\")\n",
        "\n",
        "# Read the parquet file\n",
        "df_original = pd.read_parquet(data_path)\n",
        "\n",
        "# Convert long format to wide format: rows=sample_id, columns=feature_id, values='value'\n",
        "print(f\"Original long format shape: {df_original.shape}\")\n",
        "# Filter df_original to only keep entries where assay_element == 'exprs'\n",
        "df_original = df_original[df_original['assay_element'] == 'exprs']\n",
        "df_original = df_original.pivot(index='sample_id', columns='feature_id', values='value')\n",
        "print(f\"wide format shape: {df_original.shape}\")\n",
        "print(f\"Columns (first 10): {list(df_original.columns[:10])}\")\n",
        "print(f\"Index (first 10): {list(df_original.index[:10])}\")\n",
        "print(\"\\nFirst few rows and columns:\")\n",
        "print(df_original.iloc[:5, :5])\n"
      ]
    },
    {
      "cell_type": "code",
      "execution_count": 10,
      "metadata": {},
      "outputs": [
        {
          "name": "stdout",
          "output_type": "stream",
          "text": [
            "Creating filtered dataset...\n",
            "Selecting 11 samples out of 113 (9.7%)\n",
            "Selecting 1976 features out of 19764 (10.0%)\n",
            "Filtered data shape: (11, 1976)\n",
            "\n",
            "Filtered data preview:\n",
            "feature_id  102724880    373861      1856        30  100506014    389136  \\\n",
            "sample_id                                                                  \n",
            "GSM578793    3.838740  4.381610  6.283195  9.247281   5.110849  3.742972   \n",
            "GSM578717    3.658550  4.803830  6.651350  9.420063   5.340990  3.461969   \n",
            "GSM578753    3.835218  4.689516  6.597229  9.670833   5.248045  3.669286   \n",
            "GSM578782    3.874663  4.482876  6.207982  9.450935   5.489213  3.636960   \n",
            "GSM578723    3.860978  4.859785  6.458095  9.509029   5.444547  3.380183   \n",
            "\n",
            "feature_id     85300      9404      9459     84901  ...    115701     55364  \\\n",
            "sample_id                                           ...                       \n",
            "GSM578793   5.971483  8.849833  8.095494  7.857323  ...  4.390099  5.829763   \n",
            "GSM578717   6.068164  8.702875  8.111429  7.571506  ...  4.529919  6.157142   \n",
            "GSM578753   5.891607  7.516014  7.282225  8.291111  ...  4.253599  5.636159   \n",
            "GSM578782   6.030456  8.913161  8.368309  7.855179  ...  5.437278  5.574670   \n",
            "GSM578723   5.905919  7.830902  7.189664  7.651993  ...  4.296963  5.984814   \n",
            "\n",
            "feature_id    121340      79101      6839      5729      8346    347736  \\\n",
            "sample_id                                                                 \n",
            "GSM578793   4.417733   9.677045  6.470436  3.904093  4.027488  4.532442   \n",
            "GSM578717   4.289736   9.196022  6.328829  4.665242  4.449145  4.520268   \n",
            "GSM578753   4.352602  10.096344  6.087345  4.276983  4.304629  4.337584   \n",
            "GSM578782   4.317818   9.747986  5.871297  3.940440  4.672677  4.596486   \n",
            "GSM578723   4.287865   9.488079  5.959592  4.744972  5.015055  4.425633   \n",
            "\n",
            "feature_id  100506697       125  \n",
            "sample_id                        \n",
            "GSM578793    3.639926  6.962995  \n",
            "GSM578717    3.707351  7.875609  \n",
            "GSM578753    3.723766  7.956319  \n",
            "GSM578782    3.655778  5.053346  \n",
            "GSM578723    3.562402  7.071409  \n",
            "\n",
            "[5 rows x 1976 columns]\n"
          ]
        }
      ],
      "source": [
        "# Create filtered version: random 10% of samples and 10% of features\n",
        "print(\"Creating filtered dataset...\")\n",
        "\n",
        "# Calculate 10% of samples and features\n",
        "n_samples = int(0.1 * len(df_original.index))\n",
        "n_features = int(0.1 * len(df_original.columns))\n",
        "\n",
        "print(f\"Selecting {n_samples} samples out of {len(df_original.index)} ({100*n_samples/len(df_original.index):.1f}%)\")\n",
        "print(f\"Selecting {n_features} features out of {len(df_original.columns)} ({100*n_features/len(df_original.columns):.1f}%)\")\n",
        "\n",
        "# Randomly sample rows (samples) and columns (features)\n",
        "random_samples = np.random.choice(df_original.index, size=n_samples, replace=False)\n",
        "random_features = np.random.choice(df_original.columns, size=n_features, replace=False)\n",
        "\n",
        "# Create filtered dataframe\n",
        "df_filtered = df_original.loc[random_samples, random_features]\n",
        "\n",
        "print(f\"Filtered data shape: {df_filtered.shape}\")\n",
        "print(\"\\nFiltered data preview:\")\n",
        "print(df_filtered.head())\n"
      ]
    },
    {
      "cell_type": "code",
      "execution_count": 12,
      "metadata": {},
      "outputs": [],
      "source": [
        "## Running Single Group Tests\n",
        "\n",
        "# Now we'll use the functions from `single_group_tests.py` to compare the original and filtered datasets.\n"
      ]
    },
    {
      "cell_type": "code",
      "execution_count": 14,
      "metadata": {},
      "outputs": [
        {
          "name": "stdout",
          "output_type": "stream",
          "text": [
            "=== Feature Correlation Analysis ===\n",
            "Comparing overlapping samples and features between original and filtered datasets\n",
            "Number of features compared: 1976\n",
            "Mean correlation coefficient: 1.0000\n",
            "Correlation range: [1.0000, 1.0000]\n",
            "Standard deviation of correlations: 0.0000\n"
          ]
        },
        {
          "data": {
            "image/png": "[encoded data removed]",
            "text/plain": [
              "<Figure size 1000x600 with 1 Axes>"
            ]
          },
          "metadata": {},
          "output_type": "display_data"
        }
      ],
      "source": [
        "# Test 1: Calculate feature correlations between original and filtered data\n",
        "print(\"=== Feature Correlation Analysis ===\")\n",
        "print(\"Comparing overlapping samples and features between original and filtered datasets\")\n",
        "\n",
        "try:\n",
        "    # Get subset of original data that matches filtered data (common samples and features)\n",
        "    df_original_subset = df_original.loc[random_samples, random_features]\n",
        "    \n",
        "    correlations, mean_correlation = SingleGroupTests.calc_mean_feature_correlation(\n",
        "        df_original_subset, df_filtered\n",
        "    )\n",
        "    \n",
        "    print(f\"Number of features compared: {len(correlations)}\")\n",
        "    print(f\"Mean correlation coefficient: {mean_correlation:.4f}\")\n",
        "    print(f\"Correlation range: [{min(correlations):.4f}, {max(correlations):.4f}]\")\n",
        "    print(f\"Standard deviation of correlations: {np.std(correlations):.4f}\")\n",
        "    \n",
        "    # Show distribution of correlations\n",
        "    import matplotlib.pyplot as plt\n",
        "    \n",
        "    plt.figure(figsize=(10, 6))\n",
        "    plt.hist(correlations, bins=20, alpha=0.7, edgecolor='black')\n",
        "    plt.axvline(mean_correlation, color='red', linestyle='--', \n",
        "                label=f'Mean: {mean_correlation:.4f}')\n",
        "    plt.xlabel('Correlation Coefficient')\n",
        "    plt.ylabel('Frequency')\n",
        "    plt.title('Distribution of Feature Correlations\\n(Original vs Filtered Data)')\n",
        "    plt.legend()\n",
        "    plt.grid(True, alpha=0.3)\n",
        "    plt.show()\n",
        "    \n",
        "except Exception as e:\n",
        "    print(f\"Error in correlation analysis: {e}\")\n",
        "    print(\"This is expected since we're comparing identical data (perfect correlation = 1.0)\")\n"
      ]
    },
    {
      "cell_type": "code",
      "execution_count": null,
      "metadata": {},
      "outputs": [],
      "source": [
        "# Let's create a more interesting comparison by adding some noise to the filtered data\n",
        "print(\"=== Creating Modified Dataset for Comparison ===\")\n",
        "\n",
        "# Add small amount of random noise to filtered data to create meaningful differences\n",
        "noise_factor = 0.05  # 5% noise\n",
        "df_modified = df_filtered.copy()\n",
        "\n",
        "# Add proportional noise to each value\n",
        "for col in df_modified.columns:\n",
        "    col_std = df_modified[col].std()\n",
        "    if col_std > 0:  # Only add noise if column has variation\n",
        "        noise = np.random.normal(0, col_std * noise_factor, size=len(df_modified))\n",
        "        df_modified[col] = df_modified[col] + noise\n",
        "\n",
        "print(f\"Added {noise_factor*100}% proportional noise to filtered data\")\n",
        "print(f\"Modified data shape: {df_modified.shape}\")\n",
        "print(\"\\nModified data preview:\")\n",
        "print(df_modified.head())\n"
      ]
    },
    {
      "cell_type": "code",
      "execution_count": null,
      "metadata": {},
      "outputs": [],
      "source": [
        "# Test 2: Calculate feature correlations between filtered and modified data\n",
        "print(\"=== Feature Correlation Analysis (Filtered vs Modified) ===\")\n",
        "\n",
        "try:\n",
        "    correlations, mean_correlation = SingleGroupTests.calc_mean_feature_correlation(\n",
        "        df_filtered, df_modified\n",
        "    )\n",
        "    \n",
        "    print(f\"Number of features compared: {len(correlations)}\")\n",
        "    print(f\"Mean correlation coefficient: {mean_correlation:.4f}\")\n",
        "    print(f\"Correlation range: [{min(correlations):.4f}, {max(correlations):.4f}]\")\n",
        "    print(f\"Standard deviation of correlations: {np.std(correlations):.4f}\")\n",
        "    \n",
        "    # Show some individual correlations\n",
        "    print(\"\\nFirst 10 feature correlations:\")\n",
        "    for i, (feature, corr) in enumerate(zip(df_filtered.columns[:10], correlations[:10])):\n",
        "        print(f\"  {feature}: {corr:.4f}\")\n",
        "    \n",
        "except Exception as e:\n",
        "    print(f\"Error in correlation analysis: {e}\")\n"
      ]
    },
    {
      "cell_type": "code",
      "execution_count": null,
      "metadata": {},
      "outputs": [],
      "source": [
        "# Test 3: Rank features by discrepancy between filtered and modified data\n",
        "print(\"=== Feature Discrepancy Analysis ===\")\n",
        "\n",
        "try:\n",
        "    discrepancy_results = SingleGroupTests.rank_features_by_discrepancy(\n",
        "        df_filtered, df_modified\n",
        "    )\n",
        "    \n",
        "    print(f\"Number of features analyzed: {len(discrepancy_results)}\")\n",
        "    print(\"\\nTop 10 features with highest discrepancy:\")\n",
        "    print(discrepancy_results.head(10))\n",
        "    \n",
        "    print(\"\\nBottom 10 features with lowest discrepancy:\")\n",
        "    print(discrepancy_results.tail(10))\n",
        "    \n",
        "    # Summary statistics\n",
        "    print(f\"\\nDiscrepancy Summary:\")\n",
        "    print(f\"  Mean absolute difference: {discrepancy_results['absolute_difference'].mean():.4f}\")\n",
        "    print(f\"  Median absolute difference: {discrepancy_results['absolute_difference'].median():.4f}\")\n",
        "    print(f\"  Max absolute difference: {discrepancy_results['absolute_difference'].max():.4f}\")\n",
        "    print(f\"  Min absolute difference: {discrepancy_results['absolute_difference'].min():.4f}\")\n",
        "    \n",
        "    print(f\"\\n  Mean percent change: {discrepancy_results['percent_change'].mean():.2f}%\")\n",
        "    print(f\"  Median percent change: {discrepancy_results['percent_change'].median():.2f}%\")\n",
        "    \n",
        "except Exception as e:\n",
        "    print(f\"Error in discrepancy analysis: {e}\")\n"
      ]
    },
    {
      "cell_type": "code",
      "execution_count": null,
      "metadata": {},
      "outputs": [],
      "source": [
        "# Visualization of discrepancy results\n",
        "print(\"=== Visualization of Results ===\")\n",
        "\n",
        "try:\n",
        "    import matplotlib.pyplot as plt\n",
        "    \n",
        "    # Create subplots\n",
        "    fig, axes = plt.subplots(2, 2, figsize=(15, 12))\n",
        "    \n",
        "    # Plot 1: Histogram of absolute differences\n",
        "    axes[0, 0].hist(discrepancy_results['absolute_difference'], bins=30, alpha=0.7, edgecolor='black')\n",
        "    axes[0, 0].set_xlabel('Absolute Difference')\n",
        "    axes[0, 0].set_ylabel('Frequency')\n",
        "    axes[0, 0].set_title('Distribution of Absolute Differences')\n",
        "    axes[0, 0].grid(True, alpha=0.3)\n",
        "    \n",
        "    # Plot 2: Histogram of percent changes\n",
        "    axes[0, 1].hist(discrepancy_results['percent_change'], bins=30, alpha=0.7, edgecolor='black')\n",
        "    axes[0, 1].set_xlabel('Percent Change (%)')\n",
        "    axes[0, 1].set_ylabel('Frequency')\n",
        "    axes[0, 1].set_title('Distribution of Percent Changes')\n",
        "    axes[0, 1].grid(True, alpha=0.3)\n",
        "    \n",
        "    # Plot 3: Scatter plot of absolute difference vs percent change\n",
        "    axes[1, 0].scatter(discrepancy_results['absolute_difference'], \n",
        "                      discrepancy_results['percent_change'], alpha=0.6)\n",
        "    axes[1, 0].set_xlabel('Absolute Difference')\n",
        "    axes[1, 0].set_ylabel('Percent Change (%)')\n",
        "    axes[1, 0].set_title('Absolute Difference vs Percent Change')\n",
        "    axes[1, 0].grid(True, alpha=0.3)\n",
        "    \n",
        "    # Plot 4: Top 20 features by absolute difference\n",
        "    top_20 = discrepancy_results.head(20)\n",
        "    axes[1, 1].barh(range(len(top_20)), top_20['absolute_difference'])\n",
        "    axes[1, 1].set_yticks(range(len(top_20)))\n",
        "    axes[1, 1].set_yticklabels(top_20['feature'], fontsize=8)\n",
        "    axes[1, 1].set_xlabel('Absolute Difference')\n",
        "    axes[1, 1].set_title('Top 20 Features by Absolute Difference')\n",
        "    axes[1, 1].grid(True, alpha=0.3)\n",
        "    \n",
        "    plt.tight_layout()\n",
        "    plt.show()\n",
        "    \n",
        "except Exception as e:\n",
        "    print(f\"Error creating visualizations: {e}\")\n",
        "    import traceback\n",
        "    traceback.print_exc()\n"
      ]
    },
    {
      "cell_type": "code",
      "execution_count": null,
      "metadata": {},
      "outputs": [],
      "source": [
        "## Summary\n",
        "\n",
        "This notebook demonstrated the usage of the `SingleGroupTests` class from `single_group_tests.py` with GSE23597 assay data:\n",
        "\n",
        "1. **Data Loading**: Successfully loaded assay data from the GSE23597 parquet file\n",
        "2. **Data Filtering**: Created a filtered dataset with 10% of samples and 10% of features\n",
        "3. **Data Modification**: Added 5% proportional noise to create meaningful differences for comparison\n",
        "4. **Feature Correlation Analysis**: Calculated Spearman correlations between datasets\n",
        "5. **Feature Discrepancy Analysis**: Ranked features by their absolute differences and percent changes\n",
        "6. **Visualization**: Created comprehensive plots to visualize the results\n",
        "\n",
        "The analysis shows how the single group test functions can be used to compare different versions of genomic datasets and identify features with the largest discrepancies.\n"
      ]
    }
  ],
  "metadata": {
    "kernelspec": {
      "display_name": "py-3.12",
      "language": "python",
      "name": "python3"
    },
    "language_info": {
      "codemirror_mode": {
        "name": "ipython",
        "version": 3
      },
      "file_extension": ".py",
      "mimetype": "text/x-python",
      "name": "python",
      "nbconvert_exporter": "python",
      "pygments_lexer": "ipython3",
      "version": "3.12.9"
    }
  },
  "nbformat": 4,
  "nbformat_minor": 2
}
